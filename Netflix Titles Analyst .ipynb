{
 "cells": [
  {
   "cell_type": "code",
   "execution_count": 72,
   "id": "d4614e2f",
   "metadata": {},
   "outputs": [],
   "source": [
    "# import the libraries\n",
    "import matplotlib.pyplot as plt\n",
    "import numpy as np\n",
    "import pandas as pd\n",
    "import seaborn as sns\n",
    "from datetime import datetime\n",
    "\n",
    "%matplotlib inline"
   ]
  },
  {
   "cell_type": "code",
   "execution_count": 73,
   "id": "bb849066",
   "metadata": {},
   "outputs": [
    {
     "data": {
      "text/html": [
       "<div>\n",
       "<style scoped>\n",
       "    .dataframe tbody tr th:only-of-type {\n",
       "        vertical-align: middle;\n",
       "    }\n",
       "\n",
       "    .dataframe tbody tr th {\n",
       "        vertical-align: top;\n",
       "    }\n",
       "\n",
       "    .dataframe thead th {\n",
       "        text-align: right;\n",
       "    }\n",
       "</style>\n",
       "<table border=\"1\" class=\"dataframe\">\n",
       "  <thead>\n",
       "    <tr style=\"text-align: right;\">\n",
       "      <th></th>\n",
       "      <th>show_id</th>\n",
       "      <th>type</th>\n",
       "      <th>title</th>\n",
       "      <th>director</th>\n",
       "      <th>cast</th>\n",
       "      <th>country</th>\n",
       "      <th>date_added</th>\n",
       "      <th>release_year</th>\n",
       "      <th>rating</th>\n",
       "      <th>duration</th>\n",
       "      <th>listed_in</th>\n",
       "      <th>description</th>\n",
       "    </tr>\n",
       "  </thead>\n",
       "  <tbody>\n",
       "    <tr>\n",
       "      <th>0</th>\n",
       "      <td>s1</td>\n",
       "      <td>Movie</td>\n",
       "      <td>Dick Johnson Is Dead</td>\n",
       "      <td>Kirsten Johnson</td>\n",
       "      <td>NaN</td>\n",
       "      <td>United States</td>\n",
       "      <td>September 25, 2021</td>\n",
       "      <td>2020</td>\n",
       "      <td>PG-13</td>\n",
       "      <td>90 min</td>\n",
       "      <td>Documentaries</td>\n",
       "      <td>As her father nears the end of his life, filmm...</td>\n",
       "    </tr>\n",
       "    <tr>\n",
       "      <th>1</th>\n",
       "      <td>s2</td>\n",
       "      <td>TV Show</td>\n",
       "      <td>Blood &amp; Water</td>\n",
       "      <td>NaN</td>\n",
       "      <td>Ama Qamata, Khosi Ngema, Gail Mabalane, Thaban...</td>\n",
       "      <td>South Africa</td>\n",
       "      <td>September 24, 2021</td>\n",
       "      <td>2021</td>\n",
       "      <td>TV-MA</td>\n",
       "      <td>2 Seasons</td>\n",
       "      <td>International TV Shows, TV Dramas, TV Mysteries</td>\n",
       "      <td>After crossing paths at a party, a Cape Town t...</td>\n",
       "    </tr>\n",
       "    <tr>\n",
       "      <th>2</th>\n",
       "      <td>s3</td>\n",
       "      <td>TV Show</td>\n",
       "      <td>Ganglands</td>\n",
       "      <td>Julien Leclercq</td>\n",
       "      <td>Sami Bouajila, Tracy Gotoas, Samuel Jouy, Nabi...</td>\n",
       "      <td>NaN</td>\n",
       "      <td>September 24, 2021</td>\n",
       "      <td>2021</td>\n",
       "      <td>TV-MA</td>\n",
       "      <td>1 Season</td>\n",
       "      <td>Crime TV Shows, International TV Shows, TV Act...</td>\n",
       "      <td>To protect his family from a powerful drug lor...</td>\n",
       "    </tr>\n",
       "    <tr>\n",
       "      <th>3</th>\n",
       "      <td>s4</td>\n",
       "      <td>TV Show</td>\n",
       "      <td>Jailbirds New Orleans</td>\n",
       "      <td>NaN</td>\n",
       "      <td>NaN</td>\n",
       "      <td>NaN</td>\n",
       "      <td>September 24, 2021</td>\n",
       "      <td>2021</td>\n",
       "      <td>TV-MA</td>\n",
       "      <td>1 Season</td>\n",
       "      <td>Docuseries, Reality TV</td>\n",
       "      <td>Feuds, flirtations and toilet talk go down amo...</td>\n",
       "    </tr>\n",
       "    <tr>\n",
       "      <th>4</th>\n",
       "      <td>s5</td>\n",
       "      <td>TV Show</td>\n",
       "      <td>Kota Factory</td>\n",
       "      <td>NaN</td>\n",
       "      <td>Mayur More, Jitendra Kumar, Ranjan Raj, Alam K...</td>\n",
       "      <td>India</td>\n",
       "      <td>September 24, 2021</td>\n",
       "      <td>2021</td>\n",
       "      <td>TV-MA</td>\n",
       "      <td>2 Seasons</td>\n",
       "      <td>International TV Shows, Romantic TV Shows, TV ...</td>\n",
       "      <td>In a city of coaching centers known to train I...</td>\n",
       "    </tr>\n",
       "  </tbody>\n",
       "</table>\n",
       "</div>"
      ],
      "text/plain": [
       "  show_id     type                  title         director  \\\n",
       "0      s1    Movie   Dick Johnson Is Dead  Kirsten Johnson   \n",
       "1      s2  TV Show          Blood & Water              NaN   \n",
       "2      s3  TV Show              Ganglands  Julien Leclercq   \n",
       "3      s4  TV Show  Jailbirds New Orleans              NaN   \n",
       "4      s5  TV Show           Kota Factory              NaN   \n",
       "\n",
       "                                                cast        country  \\\n",
       "0                                                NaN  United States   \n",
       "1  Ama Qamata, Khosi Ngema, Gail Mabalane, Thaban...   South Africa   \n",
       "2  Sami Bouajila, Tracy Gotoas, Samuel Jouy, Nabi...            NaN   \n",
       "3                                                NaN            NaN   \n",
       "4  Mayur More, Jitendra Kumar, Ranjan Raj, Alam K...          India   \n",
       "\n",
       "           date_added  release_year rating   duration  \\\n",
       "0  September 25, 2021          2020  PG-13     90 min   \n",
       "1  September 24, 2021          2021  TV-MA  2 Seasons   \n",
       "2  September 24, 2021          2021  TV-MA   1 Season   \n",
       "3  September 24, 2021          2021  TV-MA   1 Season   \n",
       "4  September 24, 2021          2021  TV-MA  2 Seasons   \n",
       "\n",
       "                                           listed_in  \\\n",
       "0                                      Documentaries   \n",
       "1    International TV Shows, TV Dramas, TV Mysteries   \n",
       "2  Crime TV Shows, International TV Shows, TV Act...   \n",
       "3                             Docuseries, Reality TV   \n",
       "4  International TV Shows, Romantic TV Shows, TV ...   \n",
       "\n",
       "                                         description  \n",
       "0  As her father nears the end of his life, filmm...  \n",
       "1  After crossing paths at a party, a Cape Town t...  \n",
       "2  To protect his family from a powerful drug lor...  \n",
       "3  Feuds, flirtations and toilet talk go down amo...  \n",
       "4  In a city of coaching centers known to train I...  "
      ]
     },
     "execution_count": 73,
     "metadata": {},
     "output_type": "execute_result"
    }
   ],
   "source": [
    "# read dataset in csv by read_csv,and shows the first 5 column in dataset\n",
    "Netflix= pd.read_csv('netflix_titles.csv')\n",
    "Netflix.head()"
   ]
  },
  {
   "cell_type": "markdown",
   "id": "b6acaec6",
   "metadata": {},
   "source": [
    "Explor the data type at each series:\n",
    "Most of the features in the dataset have an object type except the release_year which contains an integer type\n",
    "shows_id\n",
    "type: the project type movie or TV shows, \n",
    "title: name of the movie/TV show, \n",
    "Director : who produce the project ,\n",
    "cast : the actors of the project , \n",
    "release year : when the project produced ,\n",
    "rating :, \n",
    "listed_in: category of the project,\n",
    "Description : the Kind of the movies/TV shows if it is family or action"
   ]
  },
  {
   "cell_type": "code",
   "execution_count": 74,
   "id": "68fbe857",
   "metadata": {},
   "outputs": [
    {
     "name": "stdout",
     "output_type": "stream",
     "text": [
      "<class 'pandas.core.frame.DataFrame'>\n",
      "RangeIndex: 8807 entries, 0 to 8806\n",
      "Data columns (total 12 columns):\n",
      " #   Column        Non-Null Count  Dtype \n",
      "---  ------        --------------  ----- \n",
      " 0   show_id       8807 non-null   object\n",
      " 1   type          8807 non-null   object\n",
      " 2   title         8807 non-null   object\n",
      " 3   director      6173 non-null   object\n",
      " 4   cast          7982 non-null   object\n",
      " 5   country       7976 non-null   object\n",
      " 6   date_added    8797 non-null   object\n",
      " 7   release_year  8807 non-null   int64 \n",
      " 8   rating        8803 non-null   object\n",
      " 9   duration      8804 non-null   object\n",
      " 10  listed_in     8807 non-null   object\n",
      " 11  description   8807 non-null   object\n",
      "dtypes: int64(1), object(11)\n",
      "memory usage: 825.8+ KB\n"
     ]
    }
   ],
   "source": [
    "Netflix.info()"
   ]
  },
  {
   "cell_type": "markdown",
   "id": "1f180c24",
   "metadata": {},
   "source": [
    "Convert string to date as a datetime using to_datetime "
   ]
  },
  {
   "cell_type": "code",
   "execution_count": 75,
   "id": "49ea5d4a",
   "metadata": {},
   "outputs": [
    {
     "name": "stdout",
     "output_type": "stream",
     "text": [
      "<class 'pandas.core.frame.DataFrame'>\n",
      "RangeIndex: 8807 entries, 0 to 8806\n",
      "Data columns (total 12 columns):\n",
      " #   Column        Non-Null Count  Dtype         \n",
      "---  ------        --------------  -----         \n",
      " 0   show_id       8807 non-null   object        \n",
      " 1   type          8807 non-null   object        \n",
      " 2   title         8807 non-null   object        \n",
      " 3   director      6173 non-null   object        \n",
      " 4   cast          7982 non-null   object        \n",
      " 5   country       7976 non-null   object        \n",
      " 6   date_added    8797 non-null   datetime64[ns]\n",
      " 7   release_year  8807 non-null   int64         \n",
      " 8   rating        8803 non-null   object        \n",
      " 9   duration      8804 non-null   object        \n",
      " 10  listed_in     8807 non-null   object        \n",
      " 11  description   8807 non-null   object        \n",
      "dtypes: datetime64[ns](1), int64(1), object(10)\n",
      "memory usage: 825.8+ KB\n"
     ]
    }
   ],
   "source": [
    "Netflix['date_added'] = pd.to_datetime(Netflix['date_added'])\n",
    "Netflix.info()"
   ]
  },
  {
   "cell_type": "markdown",
   "id": "11f7d29e",
   "metadata": {},
   "source": [
    "Check the null value, the output shows the null value of a 6 feature : director, cast, date_added , rating and all of this in not significant for analysis \n",
    "the duratin and country may be used"
   ]
  },
  {
   "cell_type": "code",
   "execution_count": 76,
   "id": "8a9623af",
   "metadata": {},
   "outputs": [
    {
     "data": {
      "text/plain": [
       "show_id            0\n",
       "type               0\n",
       "title              0\n",
       "director        2634\n",
       "cast             825\n",
       "country          831\n",
       "date_added        10\n",
       "release_year       0\n",
       "rating             4\n",
       "duration           3\n",
       "listed_in          0\n",
       "description        0\n",
       "dtype: int64"
      ]
     },
     "execution_count": 76,
     "metadata": {},
     "output_type": "execute_result"
    }
   ],
   "source": [
    "Netflix.isna().sum()"
   ]
  },
  {
   "cell_type": "markdown",
   "id": "6aa64d8d",
   "metadata": {},
   "source": [
    "Check the count and unique of country column"
   ]
  },
  {
   "cell_type": "code",
   "execution_count": 77,
   "id": "58a43d59",
   "metadata": {},
   "outputs": [
    {
     "data": {
      "text/plain": [
       "count              7976\n",
       "unique              748\n",
       "top       United States\n",
       "freq               2818\n",
       "Name: country, dtype: object"
      ]
     },
     "execution_count": 77,
     "metadata": {},
     "output_type": "execute_result"
    }
   ],
   "source": [
    "Netflix.country.describe()"
   ]
  },
  {
   "cell_type": "markdown",
   "id": "ffde1cf9",
   "metadata": {},
   "source": [
    "Fill the null values of country columns with mode  by fillna"
   ]
  },
  {
   "cell_type": "code",
   "execution_count": 78,
   "id": "d50eb866",
   "metadata": {},
   "outputs": [],
   "source": [
    "fillna_=Netflix.country.mode()[0]\n",
    "Netflix.country.fillna(fillna_, inplace=True)"
   ]
  },
  {
   "cell_type": "markdown",
   "id": "dd01ee0c",
   "metadata": {},
   "source": [
    "Fill the null values of duration columns with mode by fillna"
   ]
  },
  {
   "cell_type": "code",
   "execution_count": 79,
   "id": "5a310bd2",
   "metadata": {},
   "outputs": [],
   "source": [
    "fillna_duration=Netflix.duration.mode()[0]\n",
    "Netflix.duration.fillna(fillna_duration, inplace=True)"
   ]
  },
  {
   "cell_type": "markdown",
   "id": "7abf29a6",
   "metadata": {},
   "source": [
    "Fill the null values of rating column with mode by fillna"
   ]
  },
  {
   "cell_type": "code",
   "execution_count": 80,
   "id": "3a62f837",
   "metadata": {},
   "outputs": [],
   "source": [
    "fillna_rating=Netflix.rating.mode()[0]\n",
    "Netflix.rating.fillna(fillna_rating, inplace=True)"
   ]
  },
  {
   "cell_type": "markdown",
   "id": "c5505260",
   "metadata": {},
   "source": [
    "Fill the null values of rating column with mode by fillna"
   ]
  },
  {
   "cell_type": "code",
   "execution_count": 81,
   "id": "f74da044",
   "metadata": {},
   "outputs": [],
   "source": [
    "fillna_date_added=Netflix.date_added.median()\n",
    "Netflix.date_added.fillna(fillna_date_added, inplace=True)"
   ]
  },
  {
   "cell_type": "markdown",
   "id": "4b29f305",
   "metadata": {},
   "source": [
    "Drop the columns that will not be used or not important"
   ]
  },
  {
   "cell_type": "code",
   "execution_count": 82,
   "id": "78683e6e",
   "metadata": {},
   "outputs": [],
   "source": [
    "Netflix.drop(['cast', 'director'], axis='columns', inplace=True)"
   ]
  },
  {
   "cell_type": "markdown",
   "id": "a9ce6e5b",
   "metadata": {},
   "source": [
    "Check the null values after fillna "
   ]
  },
  {
   "cell_type": "code",
   "execution_count": 83,
   "id": "82f94ca0",
   "metadata": {},
   "outputs": [
    {
     "name": "stdout",
     "output_type": "stream",
     "text": [
      "<class 'pandas.core.frame.DataFrame'>\n",
      "RangeIndex: 8807 entries, 0 to 8806\n",
      "Data columns (total 10 columns):\n",
      " #   Column        Non-Null Count  Dtype         \n",
      "---  ------        --------------  -----         \n",
      " 0   show_id       8807 non-null   object        \n",
      " 1   type          8807 non-null   object        \n",
      " 2   title         8807 non-null   object        \n",
      " 3   country       8807 non-null   object        \n",
      " 4   date_added    8807 non-null   datetime64[ns]\n",
      " 5   release_year  8807 non-null   int64         \n",
      " 6   rating        8807 non-null   object        \n",
      " 7   duration      8807 non-null   object        \n",
      " 8   listed_in     8807 non-null   object        \n",
      " 9   description   8807 non-null   object        \n",
      "dtypes: datetime64[ns](1), int64(1), object(8)\n",
      "memory usage: 688.2+ KB\n"
     ]
    }
   ],
   "source": [
    "Netflix.info()"
   ]
  },
  {
   "cell_type": "markdown",
   "id": "0ff54575",
   "metadata": {},
   "source": [
    "Which is the unique values of rating columns"
   ]
  },
  {
   "cell_type": "code",
   "execution_count": 84,
   "id": "e1a238b2",
   "metadata": {},
   "outputs": [
    {
     "data": {
      "text/plain": [
       "array(['PG-13', 'TV-MA', 'PG', 'TV-14', 'TV-PG', 'TV-Y', 'TV-Y7', 'R',\n",
       "       'TV-G', 'G', 'NC-17', '74 min', '84 min', '66 min', 'NR',\n",
       "       'TV-Y7-FV', 'UR'], dtype=object)"
      ]
     },
     "execution_count": 84,
     "metadata": {},
     "output_type": "execute_result"
    }
   ],
   "source": [
    "Netflix.rating.unique()"
   ]
  },
  {
   "cell_type": "markdown",
   "id": "b6631eab",
   "metadata": {},
   "source": [
    "Replace outlier with the most commn value"
   ]
  },
  {
   "cell_type": "code",
   "execution_count": 85,
   "id": "fd26c10c",
   "metadata": {},
   "outputs": [
    {
     "data": {
      "text/plain": [
       "0    TV-MA\n",
       "dtype: object"
      ]
     },
     "execution_count": 85,
     "metadata": {},
     "output_type": "execute_result"
    }
   ],
   "source": [
    "Netflix.rating.mode()"
   ]
  },
  {
   "cell_type": "code",
   "execution_count": 86,
   "id": "cbb1e643",
   "metadata": {},
   "outputs": [
    {
     "data": {
      "text/plain": [
       "array(['PG-13', 'TV-MA', 'PG', 'TV-14', 'TV-PG', 'TV-Y', 'TV-Y7', 'R',\n",
       "       'TV-G', 'G', 'NC-17', 'NR', 'TV-Y7-FV', 'UR'], dtype=object)"
      ]
     },
     "execution_count": 86,
     "metadata": {},
     "output_type": "execute_result"
    }
   ],
   "source": [
    "Netflix['rating']=Netflix['rating'].replace(['66 min','84 min','74 min'],'TV-MA')\n",
    "Netflix.rating.unique()"
   ]
  },
  {
   "cell_type": "markdown",
   "id": "433c43f6",
   "metadata": {},
   "source": [
    "Sort the values of type and release_year columns"
   ]
  },
  {
   "cell_type": "code",
   "execution_count": 87,
   "id": "1915ec80",
   "metadata": {},
   "outputs": [
    {
     "data": {
      "text/html": [
       "<div>\n",
       "<style scoped>\n",
       "    .dataframe tbody tr th:only-of-type {\n",
       "        vertical-align: middle;\n",
       "    }\n",
       "\n",
       "    .dataframe tbody tr th {\n",
       "        vertical-align: top;\n",
       "    }\n",
       "\n",
       "    .dataframe thead th {\n",
       "        text-align: right;\n",
       "    }\n",
       "</style>\n",
       "<table border=\"1\" class=\"dataframe\">\n",
       "  <thead>\n",
       "    <tr style=\"text-align: right;\">\n",
       "      <th></th>\n",
       "      <th>show_id</th>\n",
       "      <th>type</th>\n",
       "      <th>title</th>\n",
       "      <th>country</th>\n",
       "      <th>date_added</th>\n",
       "      <th>release_year</th>\n",
       "      <th>rating</th>\n",
       "      <th>duration</th>\n",
       "      <th>listed_in</th>\n",
       "      <th>description</th>\n",
       "    </tr>\n",
       "  </thead>\n",
       "  <tbody>\n",
       "    <tr>\n",
       "      <th>7790</th>\n",
       "      <td>s7791</td>\n",
       "      <td>Movie</td>\n",
       "      <td>Prelude to War</td>\n",
       "      <td>United States</td>\n",
       "      <td>2017-03-31</td>\n",
       "      <td>1942</td>\n",
       "      <td>TV-14</td>\n",
       "      <td>52 min</td>\n",
       "      <td>Classic Movies, Documentaries</td>\n",
       "      <td>Frank Capra's documentary chronicles the rise ...</td>\n",
       "    </tr>\n",
       "    <tr>\n",
       "      <th>8205</th>\n",
       "      <td>s8206</td>\n",
       "      <td>Movie</td>\n",
       "      <td>The Battle of Midway</td>\n",
       "      <td>United States</td>\n",
       "      <td>2017-03-31</td>\n",
       "      <td>1942</td>\n",
       "      <td>TV-14</td>\n",
       "      <td>18 min</td>\n",
       "      <td>Classic Movies, Documentaries</td>\n",
       "      <td>Director John Ford captures combat footage of ...</td>\n",
       "    </tr>\n",
       "    <tr>\n",
       "      <th>8660</th>\n",
       "      <td>s8661</td>\n",
       "      <td>Movie</td>\n",
       "      <td>Undercover: How to Operate Behind Enemy Lines</td>\n",
       "      <td>United States</td>\n",
       "      <td>2017-03-31</td>\n",
       "      <td>1943</td>\n",
       "      <td>TV-PG</td>\n",
       "      <td>61 min</td>\n",
       "      <td>Classic Movies, Documentaries</td>\n",
       "      <td>This World War II-era training film dramatizes...</td>\n",
       "    </tr>\n",
       "    <tr>\n",
       "      <th>8739</th>\n",
       "      <td>s8740</td>\n",
       "      <td>Movie</td>\n",
       "      <td>Why We Fight: The Battle of Russia</td>\n",
       "      <td>United States</td>\n",
       "      <td>2017-03-31</td>\n",
       "      <td>1943</td>\n",
       "      <td>TV-PG</td>\n",
       "      <td>82 min</td>\n",
       "      <td>Documentaries</td>\n",
       "      <td>This installment of Frank Capra's acclaimed do...</td>\n",
       "    </tr>\n",
       "    <tr>\n",
       "      <th>8763</th>\n",
       "      <td>s8764</td>\n",
       "      <td>Movie</td>\n",
       "      <td>WWII: Report from the Aleutians</td>\n",
       "      <td>United States</td>\n",
       "      <td>2017-03-31</td>\n",
       "      <td>1943</td>\n",
       "      <td>TV-PG</td>\n",
       "      <td>45 min</td>\n",
       "      <td>Documentaries</td>\n",
       "      <td>Filmmaker John Huston narrates this Oscar-nomi...</td>\n",
       "    </tr>\n",
       "  </tbody>\n",
       "</table>\n",
       "</div>"
      ],
      "text/plain": [
       "     show_id   type                                          title  \\\n",
       "7790   s7791  Movie                                 Prelude to War   \n",
       "8205   s8206  Movie                           The Battle of Midway   \n",
       "8660   s8661  Movie  Undercover: How to Operate Behind Enemy Lines   \n",
       "8739   s8740  Movie             Why We Fight: The Battle of Russia   \n",
       "8763   s8764  Movie                WWII: Report from the Aleutians   \n",
       "\n",
       "            country date_added  release_year rating duration  \\\n",
       "7790  United States 2017-03-31          1942  TV-14   52 min   \n",
       "8205  United States 2017-03-31          1942  TV-14   18 min   \n",
       "8660  United States 2017-03-31          1943  TV-PG   61 min   \n",
       "8739  United States 2017-03-31          1943  TV-PG   82 min   \n",
       "8763  United States 2017-03-31          1943  TV-PG   45 min   \n",
       "\n",
       "                          listed_in  \\\n",
       "7790  Classic Movies, Documentaries   \n",
       "8205  Classic Movies, Documentaries   \n",
       "8660  Classic Movies, Documentaries   \n",
       "8739                  Documentaries   \n",
       "8763                  Documentaries   \n",
       "\n",
       "                                            description  \n",
       "7790  Frank Capra's documentary chronicles the rise ...  \n",
       "8205  Director John Ford captures combat footage of ...  \n",
       "8660  This World War II-era training film dramatizes...  \n",
       "8739  This installment of Frank Capra's acclaimed do...  \n",
       "8763  Filmmaker John Huston narrates this Oscar-nomi...  "
      ]
     },
     "execution_count": 87,
     "metadata": {},
     "output_type": "execute_result"
    }
   ],
   "source": [
    "Netflix= Netflix.sort_values(['type', 'release_year'],\n",
    "              ascending = [True, True])\n",
    "Netflix.head()"
   ]
  },
  {
   "cell_type": "markdown",
   "id": "105310ea",
   "metadata": {},
   "source": [
    "Q1:What are the most popular type movies or TV shows"
   ]
  },
  {
   "cell_type": "code",
   "execution_count": 88,
   "id": "85bc9516",
   "metadata": {},
   "outputs": [
    {
     "data": {
      "text/plain": [
       "Movie      6131\n",
       "TV Show    2676\n",
       "Name: type, dtype: int64"
      ]
     },
     "execution_count": 88,
     "metadata": {},
     "output_type": "execute_result"
    }
   ],
   "source": [
    "Netflix.type.value_counts()"
   ]
  },
  {
   "cell_type": "code",
   "execution_count": 89,
   "id": "a34d0fd1",
   "metadata": {},
   "outputs": [
    {
     "data": {
      "image/png": "[encoded data removed]",
      "text/plain": [
       "<Figure size 504x360 with 1 Axes>"
      ]
     },
     "metadata": {
      "needs_background": "light"
     },
     "output_type": "display_data"
    }
   ],
   "source": [
    "plt.figure(figsize=(7,5))\n",
    "x= Netflix['type'].value_counts().plot(kind='bar',color='r')\n",
    "plt.title('Compare between Movies and TV shows')\n",
    "plt.xlabel('type')\n",
    "plt.ylabel('Number of project');\n",
    "plt.savefig('Q1.png')"
   ]
  },
  {
   "cell_type": "markdown",
   "id": "78d46629",
   "metadata": {},
   "source": [
    "Q2:Has TV shows become more common in the last two years?"
   ]
  },
  {
   "cell_type": "code",
   "execution_count": 90,
   "id": "2404a6c1",
   "metadata": {},
   "outputs": [
    {
     "data": {
      "text/html": [
       "<div>\n",
       "<style scoped>\n",
       "    .dataframe tbody tr th:only-of-type {\n",
       "        vertical-align: middle;\n",
       "    }\n",
       "\n",
       "    .dataframe tbody tr th {\n",
       "        vertical-align: top;\n",
       "    }\n",
       "\n",
       "    .dataframe thead th {\n",
       "        text-align: right;\n",
       "    }\n",
       "</style>\n",
       "<table border=\"1\" class=\"dataframe\">\n",
       "  <thead>\n",
       "    <tr style=\"text-align: right;\">\n",
       "      <th></th>\n",
       "      <th>type</th>\n",
       "      <th>release_year</th>\n",
       "    </tr>\n",
       "  </thead>\n",
       "  <tbody>\n",
       "    <tr>\n",
       "      <th>0</th>\n",
       "      <td>Movie</td>\n",
       "      <td>2020</td>\n",
       "    </tr>\n",
       "    <tr>\n",
       "      <th>16</th>\n",
       "      <td>Movie</td>\n",
       "      <td>2020</td>\n",
       "    </tr>\n",
       "    <tr>\n",
       "      <th>78</th>\n",
       "      <td>Movie</td>\n",
       "      <td>2020</td>\n",
       "    </tr>\n",
       "    <tr>\n",
       "      <th>84</th>\n",
       "      <td>Movie</td>\n",
       "      <td>2020</td>\n",
       "    </tr>\n",
       "    <tr>\n",
       "      <th>103</th>\n",
       "      <td>Movie</td>\n",
       "      <td>2020</td>\n",
       "    </tr>\n",
       "    <tr>\n",
       "      <th>...</th>\n",
       "      <td>...</td>\n",
       "      <td>...</td>\n",
       "    </tr>\n",
       "    <tr>\n",
       "      <th>1460</th>\n",
       "      <td>TV Show</td>\n",
       "      <td>2021</td>\n",
       "    </tr>\n",
       "    <tr>\n",
       "      <th>1551</th>\n",
       "      <td>TV Show</td>\n",
       "      <td>2021</td>\n",
       "    </tr>\n",
       "    <tr>\n",
       "      <th>1696</th>\n",
       "      <td>TV Show</td>\n",
       "      <td>2021</td>\n",
       "    </tr>\n",
       "    <tr>\n",
       "      <th>2920</th>\n",
       "      <td>TV Show</td>\n",
       "      <td>2021</td>\n",
       "    </tr>\n",
       "    <tr>\n",
       "      <th>8437</th>\n",
       "      <td>TV Show</td>\n",
       "      <td>2021</td>\n",
       "    </tr>\n",
       "  </tbody>\n",
       "</table>\n",
       "<p>1545 rows × 2 columns</p>\n",
       "</div>"
      ],
      "text/plain": [
       "         type  release_year\n",
       "0       Movie          2020\n",
       "16      Movie          2020\n",
       "78      Movie          2020\n",
       "84      Movie          2020\n",
       "103     Movie          2020\n",
       "...       ...           ...\n",
       "1460  TV Show          2021\n",
       "1551  TV Show          2021\n",
       "1696  TV Show          2021\n",
       "2920  TV Show          2021\n",
       "8437  TV Show          2021\n",
       "\n",
       "[1545 rows x 2 columns]"
      ]
     },
     "execution_count": 90,
     "metadata": {},
     "output_type": "execute_result"
    }
   ],
   "source": [
    "com = Netflix[Netflix['release_year'] > 2019]\n",
    "df1= com[['type','release_year']]\n",
    "df1"
   ]
  },
  {
   "cell_type": "code",
   "execution_count": 91,
   "id": "98dfd01b",
   "metadata": {},
   "outputs": [
    {
     "data": {
      "text/html": [
       "<div>\n",
       "<style scoped>\n",
       "    .dataframe tbody tr th:only-of-type {\n",
       "        vertical-align: middle;\n",
       "    }\n",
       "\n",
       "    .dataframe tbody tr th {\n",
       "        vertical-align: top;\n",
       "    }\n",
       "\n",
       "    .dataframe thead th {\n",
       "        text-align: right;\n",
       "    }\n",
       "</style>\n",
       "<table border=\"1\" class=\"dataframe\">\n",
       "  <thead>\n",
       "    <tr style=\"text-align: right;\">\n",
       "      <th></th>\n",
       "      <th>type</th>\n",
       "      <th>release_year</th>\n",
       "    </tr>\n",
       "  </thead>\n",
       "  <tbody>\n",
       "    <tr>\n",
       "      <th>7790</th>\n",
       "      <td>Movie</td>\n",
       "      <td>1942</td>\n",
       "    </tr>\n",
       "    <tr>\n",
       "      <th>8205</th>\n",
       "      <td>Movie</td>\n",
       "      <td>1942</td>\n",
       "    </tr>\n",
       "    <tr>\n",
       "      <th>8660</th>\n",
       "      <td>Movie</td>\n",
       "      <td>1943</td>\n",
       "    </tr>\n",
       "    <tr>\n",
       "      <th>8739</th>\n",
       "      <td>Movie</td>\n",
       "      <td>1943</td>\n",
       "    </tr>\n",
       "    <tr>\n",
       "      <th>8763</th>\n",
       "      <td>Movie</td>\n",
       "      <td>1943</td>\n",
       "    </tr>\n",
       "    <tr>\n",
       "      <th>...</th>\n",
       "      <td>...</td>\n",
       "      <td>...</td>\n",
       "    </tr>\n",
       "    <tr>\n",
       "      <th>8604</th>\n",
       "      <td>TV Show</td>\n",
       "      <td>2018</td>\n",
       "    </tr>\n",
       "    <tr>\n",
       "      <th>8605</th>\n",
       "      <td>TV Show</td>\n",
       "      <td>2018</td>\n",
       "    </tr>\n",
       "    <tr>\n",
       "      <th>8646</th>\n",
       "      <td>TV Show</td>\n",
       "      <td>2018</td>\n",
       "    </tr>\n",
       "    <tr>\n",
       "      <th>8775</th>\n",
       "      <td>TV Show</td>\n",
       "      <td>2018</td>\n",
       "    </tr>\n",
       "    <tr>\n",
       "      <th>8803</th>\n",
       "      <td>TV Show</td>\n",
       "      <td>2018</td>\n",
       "    </tr>\n",
       "  </tbody>\n",
       "</table>\n",
       "<p>6232 rows × 2 columns</p>\n",
       "</div>"
      ],
      "text/plain": [
       "         type  release_year\n",
       "7790    Movie          1942\n",
       "8205    Movie          1942\n",
       "8660    Movie          1943\n",
       "8739    Movie          1943\n",
       "8763    Movie          1943\n",
       "...       ...           ...\n",
       "8604  TV Show          2018\n",
       "8605  TV Show          2018\n",
       "8646  TV Show          2018\n",
       "8775  TV Show          2018\n",
       "8803  TV Show          2018\n",
       "\n",
       "[6232 rows x 2 columns]"
      ]
     },
     "execution_count": 91,
     "metadata": {},
     "output_type": "execute_result"
    }
   ],
   "source": [
    "com2 = Netflix[Netflix['release_year'] < 2019]\n",
    "df2= com2[['type','release_year']]\n",
    "df2"
   ]
  },
  {
   "cell_type": "code",
   "execution_count": 92,
   "id": "42cd3ea4",
   "metadata": {},
   "outputs": [
    {
     "data": {
      "image/png": "[encoded data removed]",
      "text/plain": [
       "<Figure size 432x288 with 1 Axes>"
      ]
     },
     "metadata": {},
     "output_type": "display_data"
    }
   ],
   "source": [
    "df1.groupby(['type']).sum().plot(kind='pie', y='release_year', title='Movies and TV shows after 2019', colors=('r','Gray'))\n",
    "plt.savefig('Q2 after 2019.png')"
   ]
  },
  {
   "cell_type": "code",
   "execution_count": 93,
   "id": "8f428105",
   "metadata": {},
   "outputs": [
    {
     "data": {
      "image/png": "[encoded data removed]",
      "text/plain": [
       "<Figure size 432x288 with 1 Axes>"
      ]
     },
     "metadata": {},
     "output_type": "display_data"
    }
   ],
   "source": [
    "df2.groupby(['type']).sum().plot(kind='pie', y='release_year', title='Movies and TV shows before 2019', colors=('r','Gray'))\n",
    "plt.savefig('Q2 before 2019.png')"
   ]
  },
  {
   "cell_type": "markdown",
   "id": "d57d79b4",
   "metadata": {},
   "source": [
    "Q3:In which country are the projects produced the most"
   ]
  },
  {
   "cell_type": "code",
   "execution_count": 94,
   "id": "a712b129",
   "metadata": {},
   "outputs": [
    {
     "data": {
      "text/plain": [
       "748"
      ]
     },
     "execution_count": 94,
     "metadata": {},
     "output_type": "execute_result"
    }
   ],
   "source": [
    "Netflix.country.nunique()"
   ]
  },
  {
   "cell_type": "code",
   "execution_count": 95,
   "id": "01bc9a3e",
   "metadata": {},
   "outputs": [
    {
     "data": {
      "image/png": "[encoded data removed]",
      "text/plain": [
       "<Figure size 504x360 with 1 Axes>"
      ]
     },
     "metadata": {
      "needs_background": "light"
     },
     "output_type": "display_data"
    }
   ],
   "source": [
    "plt.figure(figsize=(7,5))\n",
    "y= Netflix['country'].value_counts().plot(kind='line', color='r')\n",
    "plt.xticks(rotation=90)\n",
    "plt.title('The country that produced the most projects')\n",
    "plt.xlabel('country')\n",
    "plt.ylabel('Number of project');\n",
    "plt.savefig('Q3.png')"
   ]
  },
  {
   "cell_type": "markdown",
   "id": "4f95ef46",
   "metadata": {},
   "source": [
    "Q4:What is the most popular category of movies and TV shows"
   ]
  },
  {
   "cell_type": "code",
   "execution_count": 96,
   "id": "903d64cc",
   "metadata": {},
   "outputs": [
    {
     "data": {
      "text/plain": [
       "514"
      ]
     },
     "execution_count": 96,
     "metadata": {},
     "output_type": "execute_result"
    }
   ],
   "source": [
    "Netflix.listed_in.nunique()"
   ]
  },
  {
   "cell_type": "code",
   "execution_count": 97,
   "id": "5b0f5d10",
   "metadata": {},
   "outputs": [
    {
     "data": {
      "text/plain": [
       "0    Dramas, International Movies\n",
       "dtype: object"
      ]
     },
     "execution_count": 97,
     "metadata": {},
     "output_type": "execute_result"
    }
   ],
   "source": [
    "Netflix.listed_in.mode()"
   ]
  },
  {
   "cell_type": "code",
   "execution_count": 98,
   "id": "585f2444",
   "metadata": {},
   "outputs": [
    {
     "data": {
      "image/png": "[encoded data removed]",
      "text/plain": [
       "<Figure size 504x360 with 1 Axes>"
      ]
     },
     "metadata": {
      "needs_background": "light"
     },
     "output_type": "display_data"
    }
   ],
   "source": [
    "plt.figure(figsize=(7,5))\n",
    "y= Netflix['listed_in'].value_counts().plot(kind='line', color='r')\n",
    "plt.xticks(rotation=90)\n",
    "plt.title('Most rated in Movies and TV shows')\n",
    "plt.xlabel('category')\n",
    "plt.ylabel('Most popular category');\n",
    "plt.savefig('Q4.png')"
   ]
  },
  {
   "cell_type": "markdown",
   "id": "94304170",
   "metadata": {},
   "source": [
    "Q5:How to find target customers from the communities "
   ]
  },
  {
   "cell_type": "code",
   "execution_count": 99,
   "id": "3f5587be",
   "metadata": {},
   "outputs": [],
   "source": [
    "fillter_=Netflix[Netflix.apply(lambda row: row.astype(str).str.contains('Documentaries').any(), axis=1)]"
   ]
  },
  {
   "cell_type": "code",
   "execution_count": 100,
   "id": "2f3ebae2",
   "metadata": {},
   "outputs": [
    {
     "data": {
      "text/html": [
       "<div>\n",
       "<style scoped>\n",
       "    .dataframe tbody tr th:only-of-type {\n",
       "        vertical-align: middle;\n",
       "    }\n",
       "\n",
       "    .dataframe tbody tr th {\n",
       "        vertical-align: top;\n",
       "    }\n",
       "\n",
       "    .dataframe thead th {\n",
       "        text-align: right;\n",
       "    }\n",
       "</style>\n",
       "<table border=\"1\" class=\"dataframe\">\n",
       "  <thead>\n",
       "    <tr style=\"text-align: right;\">\n",
       "      <th></th>\n",
       "      <th>rating</th>\n",
       "      <th>listed_in</th>\n",
       "    </tr>\n",
       "  </thead>\n",
       "  <tbody>\n",
       "    <tr>\n",
       "      <th>7790</th>\n",
       "      <td>TV-14</td>\n",
       "      <td>Classic Movies, Documentaries</td>\n",
       "    </tr>\n",
       "    <tr>\n",
       "      <th>8205</th>\n",
       "      <td>TV-14</td>\n",
       "      <td>Classic Movies, Documentaries</td>\n",
       "    </tr>\n",
       "    <tr>\n",
       "      <th>8660</th>\n",
       "      <td>TV-PG</td>\n",
       "      <td>Classic Movies, Documentaries</td>\n",
       "    </tr>\n",
       "    <tr>\n",
       "      <th>8739</th>\n",
       "      <td>TV-PG</td>\n",
       "      <td>Documentaries</td>\n",
       "    </tr>\n",
       "    <tr>\n",
       "      <th>8763</th>\n",
       "      <td>TV-PG</td>\n",
       "      <td>Documentaries</td>\n",
       "    </tr>\n",
       "    <tr>\n",
       "      <th>...</th>\n",
       "      <td>...</td>\n",
       "      <td>...</td>\n",
       "    </tr>\n",
       "    <tr>\n",
       "      <th>1411</th>\n",
       "      <td>TV-14</td>\n",
       "      <td>Documentaries</td>\n",
       "    </tr>\n",
       "    <tr>\n",
       "      <th>1420</th>\n",
       "      <td>TV-MA</td>\n",
       "      <td>Documentaries</td>\n",
       "    </tr>\n",
       "    <tr>\n",
       "      <th>1425</th>\n",
       "      <td>TV-14</td>\n",
       "      <td>Documentaries</td>\n",
       "    </tr>\n",
       "    <tr>\n",
       "      <th>1436</th>\n",
       "      <td>TV-MA</td>\n",
       "      <td>Documentaries, International Movies, Music &amp; M...</td>\n",
       "    </tr>\n",
       "    <tr>\n",
       "      <th>1466</th>\n",
       "      <td>TV-14</td>\n",
       "      <td>Documentaries</td>\n",
       "    </tr>\n",
       "  </tbody>\n",
       "</table>\n",
       "<p>869 rows × 2 columns</p>\n",
       "</div>"
      ],
      "text/plain": [
       "     rating                                          listed_in\n",
       "7790  TV-14                      Classic Movies, Documentaries\n",
       "8205  TV-14                      Classic Movies, Documentaries\n",
       "8660  TV-PG                      Classic Movies, Documentaries\n",
       "8739  TV-PG                                      Documentaries\n",
       "8763  TV-PG                                      Documentaries\n",
       "...     ...                                                ...\n",
       "1411  TV-14                                      Documentaries\n",
       "1420  TV-MA                                      Documentaries\n",
       "1425  TV-14                                      Documentaries\n",
       "1436  TV-MA  Documentaries, International Movies, Music & M...\n",
       "1466  TV-14                                      Documentaries\n",
       "\n",
       "[869 rows x 2 columns]"
      ]
     },
     "execution_count": 100,
     "metadata": {},
     "output_type": "execute_result"
    }
   ],
   "source": [
    "df4=fillter_[['rating','listed_in']]\n",
    "df4"
   ]
  },
  {
   "cell_type": "code",
   "execution_count": 101,
   "id": "a8d9a288",
   "metadata": {},
   "outputs": [
    {
     "data": {
      "image/png": "[encoded data removed]",
      "text/plain": [
       "<Figure size 504x360 with 1 Axes>"
      ]
     },
     "metadata": {
      "needs_background": "light"
     },
     "output_type": "display_data"
    }
   ],
   "source": [
    "plt.figure(figsize=(7,5))\n",
    "x= Netflix['listed_in'].value_counts().plot(kind='bar',color='r')\n",
    "y= Netflix['rating'].value_counts().plot(kind='bar',color='r')\n",
    "plt.title('Targeted Customers in Documentaries')\n",
    "plt.xlabel('rating')\n",
    "plt.ylabel('Number of Decumentaries');\n",
    "plt.savefig('Q5.png')"
   ]
  },
  {
   "cell_type": "markdown",
   "id": "277d9a98",
   "metadata": {},
   "source": [
    "Now we see that the target group in the documentaries are adults"
   ]
  }
 ],
 "metadata": {
  "kernelspec": {
   "display_name": "Python 3",
   "language": "python",
   "name": "python3"
  },
  "language_info": {
   "codemirror_mode": {
    "name": "ipython",
    "version": 3
   },
   "file_extension": ".py",
   "mimetype": "text/x-python",
   "name": "python",
   "nbconvert_exporter": "python",
   "pygments_lexer": "ipython3",
   "version": "3.8.8"
  }
 },
 "nbformat": 4,
 "nbformat_minor": 5
}
